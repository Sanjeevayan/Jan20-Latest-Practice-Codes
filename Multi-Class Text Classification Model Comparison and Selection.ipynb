{
 "cells": [
  {
   "cell_type": "code",
   "execution_count": 65,
   "metadata": {},
   "outputs": [],
   "source": [
    "path = \"/Users/kumarsanjeev/Desktop/Training Data/stack-overflow-data.csv\""
   ]
  },
  {
   "cell_type": "code",
   "execution_count": 66,
   "metadata": {},
   "outputs": [],
   "source": [
    "import pandas as pd\n",
    "data= pd.read_csv(path)"
   ]
  },
  {
   "cell_type": "code",
   "execution_count": 67,
   "metadata": {},
   "outputs": [
    {
     "data": {
      "text/html": [
       "<div>\n",
       "<style scoped>\n",
       "    .dataframe tbody tr th:only-of-type {\n",
       "        vertical-align: middle;\n",
       "    }\n",
       "\n",
       "    .dataframe tbody tr th {\n",
       "        vertical-align: top;\n",
       "    }\n",
       "\n",
       "    .dataframe thead th {\n",
       "        text-align: right;\n",
       "    }\n",
       "</style>\n",
       "<table border=\"1\" class=\"dataframe\">\n",
       "  <thead>\n",
       "    <tr style=\"text-align: right;\">\n",
       "      <th></th>\n",
       "      <th>post</th>\n",
       "      <th>tags</th>\n",
       "    </tr>\n",
       "  </thead>\n",
       "  <tbody>\n",
       "    <tr>\n",
       "      <th>0</th>\n",
       "      <td>what is causing this behavior  in our c# datet...</td>\n",
       "      <td>c#</td>\n",
       "    </tr>\n",
       "    <tr>\n",
       "      <th>1</th>\n",
       "      <td>have dynamic html load as if it was in an ifra...</td>\n",
       "      <td>asp.net</td>\n",
       "    </tr>\n",
       "    <tr>\n",
       "      <th>2</th>\n",
       "      <td>how to convert a float value in to min:sec  i ...</td>\n",
       "      <td>objective-c</td>\n",
       "    </tr>\n",
       "    <tr>\n",
       "      <th>3</th>\n",
       "      <td>.net framework 4 redistributable  just wonderi...</td>\n",
       "      <td>.net</td>\n",
       "    </tr>\n",
       "    <tr>\n",
       "      <th>4</th>\n",
       "      <td>trying to calculate and print the mean and its...</td>\n",
       "      <td>python</td>\n",
       "    </tr>\n",
       "  </tbody>\n",
       "</table>\n",
       "</div>"
      ],
      "text/plain": [
       "                                                post         tags\n",
       "0  what is causing this behavior  in our c# datet...           c#\n",
       "1  have dynamic html load as if it was in an ifra...      asp.net\n",
       "2  how to convert a float value in to min:sec  i ...  objective-c\n",
       "3  .net framework 4 redistributable  just wonderi...         .net\n",
       "4  trying to calculate and print the mean and its...       python"
      ]
     },
     "execution_count": 67,
     "metadata": {},
     "output_type": "execute_result"
    }
   ],
   "source": [
    "data.head()"
   ]
  },
  {
   "cell_type": "code",
   "execution_count": 68,
   "metadata": {},
   "outputs": [
    {
     "data": {
      "text/plain": [
       "Index(['post', 'tags'], dtype='object')"
      ]
     },
     "execution_count": 68,
     "metadata": {},
     "output_type": "execute_result"
    }
   ],
   "source": [
    "data.columns"
   ]
  },
  {
   "cell_type": "code",
   "execution_count": 69,
   "metadata": {},
   "outputs": [],
   "source": [
    "from sklearn.model_selection import train_test_split\n",
    "from sklearn.feature_extraction.text import TfidfVectorizer\n",
    "from sklearn.feature_selection import SelectKBest,chi2\n",
    "from sklearn.naive_bayes import MultinomialNB\n",
    "from sklearn.linear_model import SGDClassifier,LogisticRegression\n",
    "from sklearn.svm import LinearSVC\n",
    "from sklearn.ensemble import RandomForestClassifier\n"
   ]
  },
  {
   "cell_type": "code",
   "execution_count": 76,
   "metadata": {},
   "outputs": [],
   "source": [
    "X = data[\"post\"]\n",
    "y= data[\"tags\"]\n",
    "\n",
    "vect=TfidfVectorizer()\n",
    "X=vect.fit_transform(data[\"post\"])"
   ]
  },
  {
   "cell_type": "code",
   "execution_count": 78,
   "metadata": {},
   "outputs": [
    {
     "data": {
      "text/plain": [
       "array([151.43270067,  33.55331659,  17.17126172, ...,   7.23852515,\n",
       "        11.90073376,   3.18298983])"
      ]
     },
     "execution_count": 78,
     "metadata": {},
     "output_type": "execute_result"
    }
   ],
   "source": [
    "from sklearn.feature_selection import chi2\n",
    "# compute chi2 for each feature\n",
    "chi2score = chi2(X,data[\"tags\"])[0]\n",
    "\n",
    "chi2score"
   ]
  },
  {
   "cell_type": "code",
   "execution_count": 95,
   "metadata": {},
   "outputs": [
    {
     "name": "stdout",
     "output_type": "stream",
     "text": [
      "[('top', 368.8095086776869), ('void', 373.8573837853703), ('link_to', 381.96995942695213), ('drawable', 382.34745606612694), ('span', 384.40242637978383), ('wrap_content', 387.3314560734127), ('console', 388.7518182120866), ('static', 391.7154926048331), ('savedinstancestate', 392.681697387541), ('style', 392.9945035973045), ('module', 396.20261553199407), ('array', 400.44063600227287), ('application', 400.91304151698733), ('click', 408.74652409067966), ('layout_height', 409.9093200529339), ('import', 413.7235429508207), ('layout_width', 413.73185590165457), ('belongs_to', 421.49452749728493), ('color', 426.1515634404117), ('malloc', 431.2455887771527), ('rootscope', 431.8574197416812), ('dll', 432.44195354284756), ('varchar', 447.58779848317533), ('oncreate', 449.6250990580166), ('repeat', 451.81976339010464), ('left', 454.74728384518255), ('jsfiddle', 468.85616575853516), ('sizeof', 482.8598929022216), ('findviewbyid', 491.06445491424853), ('cpp', 495.92768177341634), ('gem', 497.0018938241512), ('font', 497.0667016102446), ('nslog', 503.9296110073166), ('erb', 506.63467379156964), ('column', 508.2181343820322), ('iostream', 514.4776766460523), ('td', 515.3022031249146), ('has_many', 522.1386916156814), ('alloc', 533.822373644833), ('framework', 537.7078708676181), ('tables', 540.3048235569838), ('textview', 540.756201991667), ('web', 541.3092337648566), ('assembly', 550.4072150416621), ('gridview', 557.4424360959968), ('string', 578.6776939060521), ('page', 580.7195090695076), ('js', 587.3956438699041), ('getelementbyid', 589.8368619725011), ('gems', 590.1336292935569), ('params', 600.843038508631), ('padding', 606.9854480857238), ('join', 621.9418465159936), ('activerecord', 632.7448320034072), ('writeline', 644.676257148293), ('height', 645.0394317627045), ('view', 656.0615471870847), ('document', 664.0080817175811), ('vector', 665.6669093743327), ('model', 667.0797755450825), ('struct', 667.3999422024455), ('const', 718.4851998632421), ('cin', 732.983601357513), ('py', 740.6036376378901), ('aspx', 754.6928612566254), ('include', 756.0962676165077), ('scanner', 758.2133323291105), ('system', 785.5658217615166), ('stdio', 807.0560111004484), ('_post', 810.0494580889075), ('runat', 810.537928296491), ('self', 823.7034202337979), ('end', 850.8808390423537), ('background', 853.1743235505644), ('margin', 854.8807583433196), ('rb', 863.5563111071347), ('select', 868.5856771632092), ('def', 875.2559105991261), ('width', 881.6660954958375), ('print', 886.3498218897458), ('public', 901.5034872812485), ('border', 904.6733598777134), ('scanf', 905.2890996696776), ('directive', 928.1362653528691), ('controller', 966.4128623687506), ('app', 966.7691177831084), ('function', 976.0256549965992), ('ruby', 1009.6486193300067), ('nsstring', 1035.548883327479), ('endl', 1087.6210662335661), ('query', 1107.558283325793), ('table', 1118.1138932077085), ('activity', 1142.3830921532226), ('html', 1164.7973330283933), ('var', 1228.96865143721), ('intent', 1323.8229864505), ('char', 1390.1019530370447), ('echo', 1491.2668925788098), ('int', 1575.8608895732673), ('println', 1599.9617694602136), ('sql', 1619.4900268791105), ('javascript', 1628.8523798624099), ('objective', 1633.7883401923375), ('gt', 1694.2309363450313), ('angularjs', 1741.4607570655833), ('std', 1795.7703420439989), ('lt', 1843.0225377139996), ('div', 1873.8755696530575), ('cout', 1927.5811651442104), ('net', 1938.7751494424715), ('ios', 2004.6541708551865), ('java', 2100.328193065323), ('css', 2190.0471141983894), ('angular', 2504.9420651324895), ('mysql', 2547.991716687269), ('iphone', 2650.0682824935016), ('jquery', 2824.9966727873793), ('printf', 2844.6489161286536), ('python', 2935.337215536291), ('rails', 3120.6006256816595), ('scope', 3213.3318189808965), ('asp', 3319.0733828745892), ('php', 3390.604492529159), ('ng', 3768.24394330241), ('android', 5919.627731829879)]\n"
     ]
    },
    {
     "data": {
      "text/plain": [
       "<Figure size 432x432 with 0 Axes>"
      ]
     },
     "metadata": {},
     "output_type": "display_data"
    }
   ],
   "source": [
    "\n",
    "from pylab import barh,plot,yticks,show,grid,xlabel,figure\n",
    "figure(figsize=(6,6))\n",
    "wscores = zip(vect.get_feature_names(),chi2score)\n",
    "#print(list(wscores))\n",
    "wchi2 = sorted(wscores,key=lambda x:x[1]) \n",
    "print(wchi2[-125:])\n",
    "# topchi2 = zip(*wchi2[-25:])\n",
    "# print(topchi2)\n",
    "# x = range(len(topchi2[1]))\n",
    "# labels = topchi2[0]\n",
    "# barh(x,topchi2[1],align='center',alpha=.2,color='g')\n",
    "# plot(topchi2[1],x,'-o',markersize=2,alpha=.8,color='g')\n",
    "# yticks(x,labels)\n",
    "# xlabel('$\\chi^2$')\n",
    "# show()"
   ]
  },
  {
   "cell_type": "code",
   "execution_count": null,
   "metadata": {},
   "outputs": [],
   "source": []
  },
  {
   "cell_type": "code",
   "execution_count": 7,
   "metadata": {},
   "outputs": [],
   "source": [
    "X_train,X_test,y_train,y_test=train_test_split(X,y,test_size=0.33,random_state=42)"
   ]
  },
  {
   "cell_type": "code",
   "execution_count": 8,
   "metadata": {},
   "outputs": [
    {
     "data": {
      "text/plain": [
       "(26800, 26800, 13200, 13200)"
      ]
     },
     "execution_count": 8,
     "metadata": {},
     "output_type": "execute_result"
    }
   ],
   "source": [
    "len(X_train),len(y_train),len(X_test),len(y_test)"
   ]
  },
  {
   "cell_type": "code",
   "execution_count": 9,
   "metadata": {},
   "outputs": [],
   "source": [
    "vectorizer = TfidfVectorizer()"
   ]
  },
  {
   "cell_type": "code",
   "execution_count": 10,
   "metadata": {},
   "outputs": [],
   "source": [
    "X1=vectorizer.fit_transform(X_train)"
   ]
  },
  {
   "cell_type": "code",
   "execution_count": 11,
   "metadata": {},
   "outputs": [
    {
     "data": {
      "text/plain": [
       "<26800x132760 sparse matrix of type '<class 'numpy.float64'>'\n",
       "\twith 1868815 stored elements in Compressed Sparse Row format>"
      ]
     },
     "execution_count": 11,
     "metadata": {},
     "output_type": "execute_result"
    }
   ],
   "source": [
    "X1"
   ]
  },
  {
   "cell_type": "code",
   "execution_count": 12,
   "metadata": {},
   "outputs": [],
   "source": [
    "X1_test=vectorizer.transform(X_test)"
   ]
  },
  {
   "cell_type": "code",
   "execution_count": 13,
   "metadata": {},
   "outputs": [],
   "source": [
    "model=LogisticRegression()\n"
   ]
  },
  {
   "cell_type": "code",
   "execution_count": 14,
   "metadata": {},
   "outputs": [
    {
     "name": "stderr",
     "output_type": "stream",
     "text": [
      "/Users/kumarsanjeev/anaconda3/lib/python3.6/site-packages/sklearn/linear_model/logistic.py:433: FutureWarning: Default solver will be changed to 'lbfgs' in 0.22. Specify a solver to silence this warning.\n",
      "  FutureWarning)\n",
      "/Users/kumarsanjeev/anaconda3/lib/python3.6/site-packages/sklearn/linear_model/logistic.py:460: FutureWarning: Default multi_class will be changed to 'auto' in 0.22. Specify the multi_class option to silence this warning.\n",
      "  \"this warning.\", FutureWarning)\n"
     ]
    },
    {
     "data": {
      "text/plain": [
       "LogisticRegression(C=1.0, class_weight=None, dual=False, fit_intercept=True,\n",
       "          intercept_scaling=1, max_iter=100, multi_class='warn',\n",
       "          n_jobs=None, penalty='l2', random_state=None, solver='warn',\n",
       "          tol=0.0001, verbose=0, warm_start=False)"
      ]
     },
     "execution_count": 14,
     "metadata": {},
     "output_type": "execute_result"
    }
   ],
   "source": [
    "model.fit(X1,y_train)"
   ]
  },
  {
   "cell_type": "code",
   "execution_count": 15,
   "metadata": {},
   "outputs": [],
   "source": [
    "y_predict=model.predict(X1_test)"
   ]
  },
  {
   "cell_type": "code",
   "execution_count": 16,
   "metadata": {},
   "outputs": [
    {
     "data": {
      "text/plain": [
       "0.803030303030303"
      ]
     },
     "execution_count": 16,
     "metadata": {},
     "output_type": "execute_result"
    }
   ],
   "source": [
    "model.score(X1_test,y_test)"
   ]
  },
  {
   "cell_type": "code",
   "execution_count": 66,
   "metadata": {},
   "outputs": [
    {
     "data": {
      "text/plain": [
       "0.803030303030303"
      ]
     },
     "execution_count": 66,
     "metadata": {},
     "output_type": "execute_result"
    }
   ],
   "source": [
    "from sklearn.metrics import accuracy_score,classification_report\n",
    "accuracy_score(y_predict, y_test)\n"
   ]
  },
  {
   "cell_type": "code",
   "execution_count": 48,
   "metadata": {},
   "outputs": [],
   "source": [
    "from sklearn.metrics import confusion_matrix\n",
    "cm= confusion_matrix(y_predict,y_test,labels=['c++', 'php', 'angularjs', 'asp.net', 'mysql', 'sql', 'iphone',\n",
    "       'css', 'java', 'jquery', 'c#', 'ios', 'c', 'objective-c',\n",
    "       'ruby-on-rails', '.net', 'python', 'html', 'android', 'javascript'])\n"
   ]
  },
  {
   "cell_type": "code",
   "execution_count": null,
   "metadata": {},
   "outputs": [],
   "source": [
    "cm = confusion_matrix(y_test, y_predict) \n",
    "\n",
    "cm_df = pd.DataFrame(cm,\n",
    "                     index = ['c++', 'php', 'angularjs', 'asp.net', 'mysql', 'sql', 'iphone',\n",
    "       'css', 'java', 'jquery', 'c#', 'ios', 'c', 'objective-c',\n",
    "       'ruby-on-rails', '.net', 'python', 'html', 'android', 'javascript'], \n",
    "                     columns = ['business','scitech','sports', 'world'])\n",
    "\n",
    "#Plot the heatmap\n",
    "plt.figure(figsize=(12, 8))\n",
    "\n",
    "sns.heatmap(cm_df, \n",
    "            center=0, \n",
    "            cmap=sns.diverging_palette(220, 15, as_cmap=True), \n",
    "            annot=True, \n",
    "            fmt='g')\n",
    "\n",
    "plt.title('SGD (loss = log) \\nF1 Score (avg = macro) : {0:.2f}'.format(f1_score(y_test, y_pred, average='macro')), fontsize = 13)\n",
    "plt.ylabel('True label', fontsize = 13)\n",
    "plt.xlabel('Predicted label', fontsize = 13)\n",
    "plt.show()"
   ]
  },
  {
   "cell_type": "code",
   "execution_count": null,
   "metadata": {},
   "outputs": [],
   "source": []
  },
  {
   "cell_type": "code",
   "execution_count": 31,
   "metadata": {},
   "outputs": [
    {
     "name": "stdout",
     "output_type": "stream",
     "text": [
      "p_score is 0.8025020930317431\n"
     ]
    }
   ],
   "source": [
    "from sklearn.metrics import precision_score\n",
    "p_score=precision_score(y_predict,y_test,average=\"macro\")\n",
    "print(\"p_score is {}\".format(p_score))"
   ]
  },
  {
   "cell_type": "code",
   "execution_count": 46,
   "metadata": {},
   "outputs": [
    {
     "name": "stdout",
     "output_type": "stream",
     "text": [
      "               precision    recall  f1-score   support\n",
      "\n",
      "          c++       0.71      0.68      0.69       679\n",
      "          php       0.96      0.88      0.92       687\n",
      "    angularjs       0.98      0.93      0.95       659\n",
      "      asp.net       0.82      0.78      0.80       642\n",
      "        mysql       0.79      0.87      0.83       654\n",
      "          sql       0.60      0.65      0.62       655\n",
      "       iphone       0.84      0.76      0.80       657\n",
      "          css       0.82      0.87      0.84       666\n",
      "         java       0.68      0.74      0.71       669\n",
      "       jquery       0.68      0.68      0.68       650\n",
      "           c#       0.69      0.68      0.69       660\n",
      "          ios       0.91      0.83      0.87       668\n",
      "            c       0.81      0.78      0.80       678\n",
      "  objective-c       0.86      0.84      0.85       647\n",
      "ruby-on-rails       0.83      0.80      0.82       644\n",
      "         .net       0.69      0.69      0.69       630\n",
      "       python       0.84      0.86      0.85       641\n",
      "         html       0.91      0.92      0.91       662\n",
      "      android       0.96      0.92      0.94       688\n",
      "   javascript       0.76      0.89      0.82       664\n",
      "\n",
      "    micro avg       0.80      0.80      0.80     13200\n",
      "    macro avg       0.81      0.80      0.80     13200\n",
      " weighted avg       0.81      0.80      0.80     13200\n",
      "\n"
     ]
    }
   ],
   "source": [
    "from sklearn.metrics import classification_report\n",
    "my_tags = ['c++', 'php', 'angularjs', 'asp.net', 'mysql', 'sql', 'iphone',\n",
    "       'css', 'java', 'jquery', 'c#', 'ios', 'c', 'objective-c',\n",
    "       'ruby-on-rails', '.net', 'python', 'html', 'android', 'javascript']\n",
    "\n",
    "cl_report=classification_report(y_test,y_predict,target_names=my_tags)\n",
    "print(cl_report)"
   ]
  },
  {
   "cell_type": "code",
   "execution_count": 75,
   "metadata": {},
   "outputs": [],
   "source": [
    "my_tags = ['c++', 'php', 'angularjs', 'asp.net', 'mysql', 'sql', 'iphone',\n",
    "       'css', 'java', 'jquery', 'c#', 'ios', 'c', 'objective-c',\n",
    "       'ruby-on-rails', '.net', 'python', 'html', 'android', 'javascript']\n"
   ]
  },
  {
   "cell_type": "code",
   "execution_count": 76,
   "metadata": {},
   "outputs": [],
   "source": [
    "#y_test.unique()"
   ]
  },
  {
   "cell_type": "code",
   "execution_count": 42,
   "metadata": {},
   "outputs": [
    {
     "data": {
      "image/png": "[encoded data removed]",
      "text/plain": [
       "<Figure size 864x576 with 2 Axes>"
      ]
     },
     "metadata": {},
     "output_type": "display_data"
    }
   ],
   "source": [
    "from sklearn.metrics import f1_score\n",
    "import matplotlib.pyplot as plt\n",
    "import seaborn as sns\n",
    "sns.set_style('darkgrid')\n",
    "cm = confusion_matrix(y_test, y_predict) \n",
    "\n",
    "cm_df = pd.DataFrame(cm,\n",
    "                     index = ['c++', 'php', 'angularjs', 'asp.net', 'mysql', 'sql', 'iphone',\n",
    "       'css', 'java', 'jquery', 'c#', 'ios', 'c', 'objective-c',\n",
    "       'ruby-on-rails', '.net', 'python', 'html', 'android', 'javascript'], \n",
    "                     columns = ['c++', 'php', 'angularjs', 'asp.net', 'mysql', 'sql', 'iphone',\n",
    "       'css', 'java', 'jquery', 'c#', 'ios', 'c', 'objective-c',\n",
    "       'ruby-on-rails', '.net', 'python', 'html', 'android', 'javascript'])\n",
    "\n",
    "#Plot the heatmap\n",
    "plt.figure(figsize=(12, 8))\n",
    "\n",
    "sns.heatmap(cm_df, \n",
    "            center=0, \n",
    "            cmap=sns.diverging_palette(220, 15, as_cmap=True), \n",
    "            annot=True, \n",
    "            fmt='g')\n",
    "\n",
    "plt.title('SGD (loss = log) \\nF1 Score (avg = macro) : {0:.2f}'.format(f1_score(y_test, y_predict, average='macro')), fontsize = 13)\n",
    "plt.ylabel('True label', fontsize = 13)\n",
    "plt.xlabel('Predicted label', fontsize = 13)\n",
    "plt.show()"
   ]
  },
  {
   "cell_type": "code",
   "execution_count": null,
   "metadata": {},
   "outputs": [],
   "source": []
  },
  {
   "cell_type": "markdown",
   "metadata": {},
   "source": [
    "# Feature Engineering"
   ]
  },
  {
   "cell_type": "code",
   "execution_count": 55,
   "metadata": {},
   "outputs": [],
   "source": [
    "path=\"/Users/KumarSanjeev/Desktop/Training Data/Churn_Modelling.csv\""
   ]
  },
  {
   "cell_type": "code",
   "execution_count": 56,
   "metadata": {},
   "outputs": [],
   "source": [
    "data= pd.read_csv(path)"
   ]
  },
  {
   "cell_type": "code",
   "execution_count": 57,
   "metadata": {},
   "outputs": [
    {
     "data": {
      "text/html": [
       "<div>\n",
       "<style scoped>\n",
       "    .dataframe tbody tr th:only-of-type {\n",
       "        vertical-align: middle;\n",
       "    }\n",
       "\n",
       "    .dataframe tbody tr th {\n",
       "        vertical-align: top;\n",
       "    }\n",
       "\n",
       "    .dataframe thead th {\n",
       "        text-align: right;\n",
       "    }\n",
       "</style>\n",
       "<table border=\"1\" class=\"dataframe\">\n",
       "  <thead>\n",
       "    <tr style=\"text-align: right;\">\n",
       "      <th></th>\n",
       "      <th>RowNumber</th>\n",
       "      <th>CustomerId</th>\n",
       "      <th>Surname</th>\n",
       "      <th>CreditScore</th>\n",
       "      <th>Geography</th>\n",
       "      <th>Gender</th>\n",
       "      <th>Age</th>\n",
       "      <th>Tenure</th>\n",
       "      <th>Balance</th>\n",
       "      <th>NumOfProducts</th>\n",
       "      <th>HasCrCard</th>\n",
       "      <th>IsActiveMember</th>\n",
       "      <th>EstimatedSalary</th>\n",
       "      <th>Exited</th>\n",
       "    </tr>\n",
       "  </thead>\n",
       "  <tbody>\n",
       "    <tr>\n",
       "      <th>0</th>\n",
       "      <td>1</td>\n",
       "      <td>15634602</td>\n",
       "      <td>Hargrave</td>\n",
       "      <td>619</td>\n",
       "      <td>France</td>\n",
       "      <td>Female</td>\n",
       "      <td>42</td>\n",
       "      <td>2</td>\n",
       "      <td>0.00</td>\n",
       "      <td>1</td>\n",
       "      <td>1</td>\n",
       "      <td>1</td>\n",
       "      <td>101348.88</td>\n",
       "      <td>1</td>\n",
       "    </tr>\n",
       "    <tr>\n",
       "      <th>1</th>\n",
       "      <td>2</td>\n",
       "      <td>15647311</td>\n",
       "      <td>Hill</td>\n",
       "      <td>608</td>\n",
       "      <td>Spain</td>\n",
       "      <td>Female</td>\n",
       "      <td>41</td>\n",
       "      <td>1</td>\n",
       "      <td>83807.86</td>\n",
       "      <td>1</td>\n",
       "      <td>0</td>\n",
       "      <td>1</td>\n",
       "      <td>112542.58</td>\n",
       "      <td>0</td>\n",
       "    </tr>\n",
       "    <tr>\n",
       "      <th>2</th>\n",
       "      <td>3</td>\n",
       "      <td>15619304</td>\n",
       "      <td>Onio</td>\n",
       "      <td>502</td>\n",
       "      <td>France</td>\n",
       "      <td>Female</td>\n",
       "      <td>42</td>\n",
       "      <td>8</td>\n",
       "      <td>159660.80</td>\n",
       "      <td>3</td>\n",
       "      <td>1</td>\n",
       "      <td>0</td>\n",
       "      <td>113931.57</td>\n",
       "      <td>1</td>\n",
       "    </tr>\n",
       "    <tr>\n",
       "      <th>3</th>\n",
       "      <td>4</td>\n",
       "      <td>15701354</td>\n",
       "      <td>Boni</td>\n",
       "      <td>699</td>\n",
       "      <td>France</td>\n",
       "      <td>Female</td>\n",
       "      <td>39</td>\n",
       "      <td>1</td>\n",
       "      <td>0.00</td>\n",
       "      <td>2</td>\n",
       "      <td>0</td>\n",
       "      <td>0</td>\n",
       "      <td>93826.63</td>\n",
       "      <td>0</td>\n",
       "    </tr>\n",
       "    <tr>\n",
       "      <th>4</th>\n",
       "      <td>5</td>\n",
       "      <td>15737888</td>\n",
       "      <td>Mitchell</td>\n",
       "      <td>850</td>\n",
       "      <td>Spain</td>\n",
       "      <td>Female</td>\n",
       "      <td>43</td>\n",
       "      <td>2</td>\n",
       "      <td>125510.82</td>\n",
       "      <td>1</td>\n",
       "      <td>1</td>\n",
       "      <td>1</td>\n",
       "      <td>79084.10</td>\n",
       "      <td>0</td>\n",
       "    </tr>\n",
       "  </tbody>\n",
       "</table>\n",
       "</div>"
      ],
      "text/plain": [
       "   RowNumber  CustomerId   Surname  CreditScore Geography  Gender  Age  \\\n",
       "0          1    15634602  Hargrave          619    France  Female   42   \n",
       "1          2    15647311      Hill          608     Spain  Female   41   \n",
       "2          3    15619304      Onio          502    France  Female   42   \n",
       "3          4    15701354      Boni          699    France  Female   39   \n",
       "4          5    15737888  Mitchell          850     Spain  Female   43   \n",
       "\n",
       "   Tenure    Balance  NumOfProducts  HasCrCard  IsActiveMember  \\\n",
       "0       2       0.00              1          1               1   \n",
       "1       1   83807.86              1          0               1   \n",
       "2       8  159660.80              3          1               0   \n",
       "3       1       0.00              2          0               0   \n",
       "4       2  125510.82              1          1               1   \n",
       "\n",
       "   EstimatedSalary  Exited  \n",
       "0        101348.88       1  \n",
       "1        112542.58       0  \n",
       "2        113931.57       1  \n",
       "3         93826.63       0  \n",
       "4         79084.10       0  "
      ]
     },
     "execution_count": 57,
     "metadata": {},
     "output_type": "execute_result"
    }
   ],
   "source": [
    "data.head()"
   ]
  },
  {
   "cell_type": "code",
   "execution_count": 58,
   "metadata": {},
   "outputs": [
    {
     "data": {
      "text/plain": [
       "Index(['RowNumber', 'CustomerId', 'Surname', 'CreditScore', 'Geography',\n",
       "       'Gender', 'Age', 'Tenure', 'Balance', 'NumOfProducts', 'HasCrCard',\n",
       "       'IsActiveMember', 'EstimatedSalary', 'Exited'],\n",
       "      dtype='object')"
      ]
     },
     "execution_count": 58,
     "metadata": {},
     "output_type": "execute_result"
    }
   ],
   "source": [
    "data.columns"
   ]
  },
  {
   "cell_type": "code",
   "execution_count": 59,
   "metadata": {},
   "outputs": [],
   "source": [
    "numericColumns = ['CreditScore' , 'Age', 'Tenure', 'Balance',  'EstimatedSalary']\n",
    "categoryColumns = ['Geography', 'Gender','NumOfProducts', 'HasCrCard', 'IsActiveMember']"
   ]
  },
  {
   "cell_type": "code",
   "execution_count": null,
   "metadata": {},
   "outputs": [],
   "source": []
  }
 ],
 "metadata": {
  "kernelspec": {
   "display_name": "Python 3",
   "language": "python",
   "name": "python3"
  },
  "language_info": {
   "codemirror_mode": {
    "name": "ipython",
    "version": 3
   },
   "file_extension": ".py",
   "mimetype": "text/x-python",
   "name": "python",
   "nbconvert_exporter": "python",
   "pygments_lexer": "ipython3",
   "version": "3.6.8"
  }
 },
 "nbformat": 4,
 "nbformat_minor": 2
}
